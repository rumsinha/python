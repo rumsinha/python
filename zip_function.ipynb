{
  "nbformat": 4,
  "nbformat_minor": 0,
  "metadata": {
    "colab": {
      "provenance": [],
      "collapsed_sections": []
    },
    "kernelspec": {
      "name": "python3",
      "display_name": "Python 3"
    },
    "language_info": {
      "name": "python"
    }
  },
  "cells": [
    {
      "cell_type": "markdown",
      "source": [
        "Python zip function takes in iterables as arguments and returns an iterator"
      ],
      "metadata": {
        "id": "cC_vCBE1ErFb"
      }
    },
    {
      "cell_type": "code",
      "source": [
        "columns = [\"id\",\"name\",\"age\",\"city\",\"country\"]"
      ],
      "metadata": {
        "id": "_EwEhhavEuoh"
      },
      "execution_count": 2,
      "outputs": []
    },
    {
      "cell_type": "code",
      "source": [
        "values = [111,\"Mary John\",35,\"New York\",\"USA\"]"
      ],
      "metadata": {
        "id": "R08P1DTIFJ8l"
      },
      "execution_count": 3,
      "outputs": []
    },
    {
      "cell_type": "code",
      "source": [
        "zipped = zip(columns, values)"
      ],
      "metadata": {
        "id": "UedEtSoxFa7r"
      },
      "execution_count": 4,
      "outputs": []
    },
    {
      "cell_type": "code",
      "source": [
        "type(zipped)"
      ],
      "metadata": {
        "colab": {
          "base_uri": "https://localhost:8080/"
        },
        "id": "4cOadOyuFhGZ",
        "outputId": "815e522d-f8c6-4472-ca1a-58d625608624"
      },
      "execution_count": 5,
      "outputs": [
        {
          "output_type": "execute_result",
          "data": {
            "text/plain": [
              "zip"
            ]
          },
          "metadata": {},
          "execution_count": 5
        }
      ]
    },
    {
      "cell_type": "code",
      "source": [
        "# display the values\n",
        "list(zipped)"
      ],
      "metadata": {
        "colab": {
          "base_uri": "https://localhost:8080/"
        },
        "id": "SLjXBe7HFj2B",
        "outputId": "99eb2886-3a2d-43be-91fe-969d34436116"
      },
      "execution_count": 6,
      "outputs": [
        {
          "output_type": "execute_result",
          "data": {
            "text/plain": [
              "[('id', 111),\n",
              " ('name', 'Mary John'),\n",
              " ('age', 35),\n",
              " ('city', 'New York'),\n",
              " ('country', 'USA')]"
            ]
          },
          "metadata": {},
          "execution_count": 6
        }
      ]
    },
    {
      "cell_type": "code",
      "source": [
        "# Empty zip declaration\n",
        "zipped = zip()"
      ],
      "metadata": {
        "id": "hbvslNifFrZ4"
      },
      "execution_count": 8,
      "outputs": []
    },
    {
      "cell_type": "code",
      "source": [
        "zipped"
      ],
      "metadata": {
        "colab": {
          "base_uri": "https://localhost:8080/"
        },
        "id": "HjZAoGG5F0SZ",
        "outputId": "3265c638-a91f-40e1-c407-02b769d62376"
      },
      "execution_count": 9,
      "outputs": [
        {
          "output_type": "execute_result",
          "data": {
            "text/plain": [
              "<zip at 0x7f7dce82f460>"
            ]
          },
          "metadata": {},
          "execution_count": 9
        }
      ]
    },
    {
      "cell_type": "code",
      "source": [
        "list(zipped)"
      ],
      "metadata": {
        "colab": {
          "base_uri": "https://localhost:8080/"
        },
        "id": "UHPkjltjF8Ac",
        "outputId": "31b6b1ef-90e5-402a-aae2-a66e10f51574"
      },
      "execution_count": 11,
      "outputs": [
        {
          "output_type": "execute_result",
          "data": {
            "text/plain": [
              "[]"
            ]
          },
          "metadata": {},
          "execution_count": 11
        }
      ]
    }
  ]
}